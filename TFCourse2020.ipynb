{
  "nbformat": 4,
  "nbformat_minor": 0,
  "metadata": {
    "colab": {
      "provenance": [],
      "authorship_tag": "ABX9TyOsvzBLMWuT6n/AY/0Dh7xj",
      "include_colab_link": true
    },
    "kernelspec": {
      "name": "python3",
      "display_name": "Python 3"
    },
    "language_info": {
      "name": "python"
    },
    "accelerator": "GPU",
    "gpuClass": "standard"
  },
  "cells": [
    {
      "cell_type": "markdown",
      "metadata": {
        "id": "view-in-github",
        "colab_type": "text"
      },
      "source": [
        "<a href=\"https://colab.research.google.com/github/macgeargear/LEARNING/blob/main/TFCourse2020.ipynb\" target=\"_parent\"><img src=\"https://colab.research.google.com/assets/colab-badge.svg\" alt=\"Open In Colab\"/></a>"
      ]
    },
    {
      "cell_type": "code",
      "execution_count": null,
      "metadata": {
        "id": "i14M3olTBIca"
      },
      "outputs": [],
      "source": [
        "import numpy as np\n",
        "import matplotlib.pyplot as plt\n",
        "import tensorflow as tf\n",
        "from keras import layers\n",
        "from keras.layers import Dense\n",
        "from keras.layers import Conv2D\n",
        "from keras.layers import MaxPool2D\n",
        "from keras.losses import MeanSquaredError\n",
        "from keras.optimizers import SGD\n",
        "\n",
        "import pickle"
      ]
    },
    {
      "cell_type": "markdown",
      "source": [
        "# Perceptron with TF"
      ],
      "metadata": {
        "id": "6JnIO5tgD3RP"
      }
    },
    {
      "cell_type": "code",
      "source": [
        "\n",
        "d_in = (2,)\n",
        "\n",
        "model = tf.keras.Sequential([\n",
        "    tf.keras.layers.Dense(1, input_shape=d_in),\n",
        "    tf.keras.layers.Activation('sigmoid')\n",
        "])\n",
        "model.compile(loss=tf.keras.losses.MeanSquaredError(), optimizer=tf.keras.optimizers.SGD(learning_rate=0.1))\n",
        "model.summary()"
      ],
      "metadata": {
        "colab": {
          "base_uri": "https://localhost:8080/"
        },
        "id": "YvSRWoNiD5W6",
        "outputId": "879791ac-991c-4e30-9d9f-55ed3d98139d"
      },
      "execution_count": null,
      "outputs": [
        {
          "output_type": "stream",
          "name": "stdout",
          "text": [
            "Model: \"sequential_2\"\n",
            "_________________________________________________________________\n",
            " Layer (type)                Output Shape              Param #   \n",
            "=================================================================\n",
            " dense_2 (Dense)             (None, 1)                 3         \n",
            "                                                                 \n",
            " activation_2 (Activation)   (None, 1)                 0         \n",
            "                                                                 \n",
            "=================================================================\n",
            "Total params: 3\n",
            "Trainable params: 3\n",
            "Non-trainable params: 0\n",
            "_________________________________________________________________\n"
          ]
        }
      ]
    },
    {
      "cell_type": "code",
      "source": [
        "X = [[0,0], [0, 1], [1, 0], [1, 1]]\n",
        "Y = [0, 1, 1, 0] # OR\n",
        "\n",
        "history = model.fit(X,Y, epochs=500)\n"
      ],
      "metadata": {
        "id": "ZfT2kVu6H-ex"
      },
      "execution_count": null,
      "outputs": []
    },
    {
      "cell_type": "code",
      "source": [
        "plt.plot(history.history['loss'])"
      ],
      "metadata": {
        "colab": {
          "base_uri": "https://localhost:8080/"
        },
        "id": "6zWjPJ5YIXhh",
        "outputId": "b7bac321-8426-4c56-b54e-cc855bdd35c0"
      },
      "execution_count": null,
      "outputs": [
        {
          "output_type": "execute_result",
          "data": {
            "text/plain": [
              "[<matplotlib.lines.Line2D at 0x7f8da8282220>]"
            ]
          },
          "metadata": {},
          "execution_count": 32
        },
        {
          "output_type": "display_data",
          "data": {
            "text/plain": [
              "<Figure size 432x288 with 1 Axes>"
            ],
            "image/png": "[encoded data removed]"
          },
          "metadata": {
            "needs_background": "light"
          }
        }
      ]
    },
    {
      "cell_type": "code",
      "source": [
        "Z = model.predict(X)\n",
        "print(tf.round(Z))"
      ],
      "metadata": {
        "id": "5VwFmGV1IpAp"
      },
      "execution_count": null,
      "outputs": []
    },
    {
      "cell_type": "markdown",
      "source": [
        "### Multi-Layer Perceptron (MLP)\n",
        "add hidden layers between input and output linear"
      ],
      "metadata": {
        "id": "CRcVN_nfJapZ"
      }
    },
    {
      "cell_type": "code",
      "source": [
        "X = [[0,0], [0, 1], [1, 0], [1, 1]]\n",
        "Y = [0, 1, 1, 0] # XOR\n",
        "\n",
        "\n",
        "d_in = (2,)\n",
        "\n",
        "# multi layer perceptron\n",
        "model = tf.keras.Sequential([\n",
        "    tf.keras.layers.Dense(20, input_shape=d_in),\n",
        "    tf.keras.layers.Activation('sigmoid'),\n",
        "    tf.keras.layers.Dense(1),\n",
        "    tf.keras.layers.Activation('sigmoid'),\n",
        "\n",
        "])\n",
        "model.compile(loss=tf.keras.losses.MeanSquaredError(), optimizer=tf.keras.optimizers.SGD(learning_rate=0.1))\n",
        "# model.summary()"
      ],
      "metadata": {
        "id": "efSnU7rqJdHg"
      },
      "execution_count": null,
      "outputs": []
    },
    {
      "cell_type": "markdown",
      "source": [
        "# Tensor Operations"
      ],
      "metadata": {
        "id": "da05KEk9RdJO"
      }
    },
    {
      "cell_type": "code",
      "source": [
        "# Constant: connot change\n",
        "tf.constant([1,2,3])\n",
        "\n",
        "# Vairable: can change\n",
        "tf.Variable([1,2,3])\n",
        "\n",
        "# From numpy\n",
        "A = tf.constant(np.array([[1,2,3]]))\n",
        "\n",
        "# To numpy\n",
        "A = A.numpy\n",
        "\n",
        "# Ones, Zero\n",
        "A = tf.ones((2,3), dtype=tf.float32)\n",
        "\n",
        "C = tf.eye(2)\n",
        "print(C)\n",
        "\n",
        "# Concatenation\n",
        "# Transpose\n",
        "# Reshape\n",
        "# Change dtype --> tf.cast\n",
        "# Multiplication\n",
        "#   - Element-wise: *\n",
        "#   - Matrix Multiplication: @"
      ],
      "metadata": {
        "colab": {
          "base_uri": "https://localhost:8080/"
        },
        "id": "pHW3Aa0RRe-6",
        "outputId": "519d5327-f4f4-41a3-d0b6-7ac312ee7827"
      },
      "execution_count": null,
      "outputs": [
        {
          "output_type": "stream",
          "name": "stdout",
          "text": [
            "tf.Tensor(\n",
            "[[1. 0.]\n",
            " [0. 1.]], shape=(2, 2), dtype=float32)\n"
          ]
        }
      ]
    },
    {
      "cell_type": "markdown",
      "source": [
        "# Lineaer and Nonlinear Regression"
      ],
      "metadata": {
        "id": "2nRnA-QcVTzc"
      }
    },
    {
      "cell_type": "markdown",
      "source": [
        "## Linear "
      ],
      "metadata": {
        "id": "G9fvT-fLhy32"
      }
    },
    {
      "cell_type": "code",
      "source": [
        "# sol\n",
        "N = 100\n",
        "x = np.random.rand(N)\n",
        "y = 5*x + 10 + 0.1*np.random.rand(N)\n"
      ],
      "metadata": {
        "id": "dvK4OvPFVY10"
      },
      "execution_count": null,
      "outputs": []
    },
    {
      "cell_type": "code",
      "source": [
        "# Linear Reg with gradient tape\n",
        "# w = np.random.rand() # .rand() -> uniform random\n",
        "# b = np.random.rand() # .randN() -> normal distribution\n",
        "\n",
        "w = tf.Variable(np.random.rand())\n",
        "b = tf.Variable(np.random.rand())\n",
        "lr = 0.1\n",
        "\n",
        "for epoch in range(1000):\n",
        "    with tf.GradientTape() as t:\n",
        "        Y = w*x + b\n",
        "        loss = tf.reduce_mean((Y-y)**2) # MSE\n",
        "    dw, db = t.gradient(loss, [w,b]) # de/dw de/db\n",
        "    w.assign_sub(lr*dw) # W -= lr *dw\n",
        "    b.assign_sub(lr*db) # b -= lr *db\n",
        "    print(epoch+1, w.numpy(), b.numpy(), loss.numpy())\n",
        "\n",
        "\n"
      ],
      "metadata": {
        "id": "qLqaqYHDbcqr"
      },
      "execution_count": null,
      "outputs": []
    },
    {
      "cell_type": "code",
      "source": [
        "pred = w*x + b\n",
        "plt.plot(x,y)\n",
        "plt.plot(x,pred,'.r')"
      ],
      "metadata": {
        "colab": {
          "base_uri": "https://localhost:8080/"
        },
        "id": "0DApsiVjgZQs",
        "outputId": "c6527e6a-5451-49c8-b9b9-57ccac99ca35"
      },
      "execution_count": null,
      "outputs": [
        {
          "output_type": "execute_result",
          "data": {
            "text/plain": [
              "[<matplotlib.lines.Line2D at 0x7f8da6449430>]"
            ]
          },
          "metadata": {},
          "execution_count": 58
        },
        {
          "output_type": "display_data",
          "data": {
            "text/plain": [
              "<Figure size 432x288 with 1 Axes>"
            ],
            "image/png": "[encoded data removed]"
          },
          "metadata": {
            "needs_background": "light"
          }
        }
      ]
    },
    {
      "cell_type": "markdown",
      "source": [
        "use keras"
      ],
      "metadata": {
        "id": "KFxOdhszgwAU"
      }
    },
    {
      "cell_type": "code",
      "source": [
        "d_in = (1,)\n",
        "model = tf.keras.Sequential([\n",
        "    tf.keras.layers.Dense(1, input_shape=d_in),\n",
        "])\n",
        "model.compile(loss=tf.keras.losses.MeanSquaredError(), tf.kerasoptimizer=tf.keras.optimizer.SGD(learning_rate=0.1))\n",
        "model.fit(x,y)\n",
        "pred = model.predict(x)\n",
        "plt.plot(x,y, '.r')\n",
        "plt.plot(x,pred)"
      ],
      "metadata": {
        "id": "qbwgUx8ogxB0"
      },
      "execution_count": null,
      "outputs": []
    },
    {
      "cell_type": "markdown",
      "source": [
        "## Non-linear"
      ],
      "metadata": {
        "id": "qT38-Q5Thw7E"
      }
    },
    {
      "cell_type": "code",
      "source": [
        "def relu(x):\n",
        "    return tf.where(x>=0, x, 0)\n",
        "\n",
        "class MLP():\n",
        "    def __init__(self, neurons=[1, 100, 100, 1], activation=[relu, relu, None]):\n",
        "        self.w = []\n",
        "        self.activation = activation\n",
        "        for i in range(1, len(neurons)):\n",
        "            # w\n",
        "            self.w.append(tf.Variable(np.random.randn(neurons[i-1], neurons[i])))\n",
        "            # b\n",
        "            self.w.append(tf.Variable(np.random.randn(neurons)))\n",
        "    def __call__(self, x):\n",
        "        for i in range(0, len(self.w), 2):\n",
        "            x = x @ self.w[i] + self.w[i+1]\n",
        "            if self.activation[i // 2] is not None:\n",
        "                x = self.activation[i//2](x)\n",
        "        return x\n",
        "    def fit(self, x, y, lr=0.0001, epochs=2000):\n",
        "        for epoch in range(7000):\n",
        "            with tf.GradientTape() as t:\n",
        "                loss = tf.reduce_mean((self(x)-y)**2)\n",
        "            dw = t.gradient(loss, self.w)\n",
        "            for i, w in enumerate(self.w):\n",
        "                w.assign_sub(lr*w[i])\n",
        "            if epoch % 1000 == 0:\n",
        "                print(epoch, loss.numpy())"
      ],
      "metadata": {
        "id": "CwLfWMRlh2am"
      },
      "execution_count": null,
      "outputs": []
    },
    {
      "cell_type": "code",
      "source": [
        "lr = 0.001\n",
        "model = MLP()\n",
        "model.fit(x,y, lr, 7000)\n",
        "Z = model(x)"
      ],
      "metadata": {
        "id": "r6OCWFKXlHa_"
      },
      "execution_count": null,
      "outputs": []
    },
    {
      "cell_type": "markdown",
      "source": [],
      "metadata": {
        "id": "df1Da1pLpDB8"
      }
    },
    {
      "cell_type": "code",
      "source": [
        "import matplotlib.pyplot as plt\n",
        "import numpy as np"
      ],
      "metadata": {
        "id": "0ElpeHGrzXRX"
      },
      "execution_count": null,
      "outputs": []
    },
    {
      "cell_type": "markdown",
      "source": [
        "# Work with mnist"
      ],
      "metadata": {
        "id": "KOg6N0XwpD1M"
      }
    },
    {
      "cell_type": "code",
      "source": [
        "!nvidia-smi"
      ],
      "metadata": {
        "id": "5s8OktIEpW9X"
      },
      "execution_count": null,
      "outputs": []
    },
    {
      "cell_type": "code",
      "source": [
        "(Xtrain, Ytrain), (Xtest, Ytest) = tf.keras.datasets.mnist.load_data()"
      ],
      "metadata": {
        "id": "DTaIZTHapHtR"
      },
      "execution_count": null,
      "outputs": []
    },
    {
      "cell_type": "code",
      "source": [
        "Xtrain.shape\n",
        "Xtrain[:, :, :, None].shape\n",
        "Ytrain[:10]"
      ],
      "metadata": {
        "colab": {
          "base_uri": "https://localhost:8080/"
        },
        "id": "oGCMPZ_fyq4a",
        "outputId": "c1781108-4363-4113-daae-14fae55ac935"
      },
      "execution_count": null,
      "outputs": [
        {
          "output_type": "execute_result",
          "data": {
            "text/plain": [
              "array([5, 0, 4, 1, 9, 2, 1, 3, 1, 4], dtype=uint8)"
            ]
          },
          "metadata": {},
          "execution_count": 21
        }
      ]
    },
    {
      "cell_type": "code",
      "source": [
        "plt.imshow(Xtrain[899], cmap='gray')\n",
        "plt.show()"
      ],
      "metadata": {
        "colab": {
          "base_uri": "https://localhost:8080/",
          "height": 265
        },
        "id": "gwNzvlOrztcV",
        "outputId": "a2d6a88a-b937-47c5-cc88-391533812011"
      },
      "execution_count": null,
      "outputs": [
        {
          "output_type": "display_data",
          "data": {
            "text/plain": [
              "<Figure size 432x288 with 1 Axes>"
            ],
            "image/png": "[encoded data removed]"
          },
          "metadata": {
            "needs_background": "light"
          }
        }
      ]
    },
    {
      "cell_type": "code",
      "source": [
        "Xtrain = Xtrain.reshape(-1, 28*28)\n",
        "Xtest = Xtest.reshape(-1, 28*28)\n",
        "Xtrain.shape\n",
        "Ytrain.shape"
      ],
      "metadata": {
        "colab": {
          "base_uri": "https://localhost:8080/"
        },
        "id": "XwRS1WoG08lT",
        "outputId": "efe034d5-a257-4193-9e29-d6f169b70dab"
      },
      "execution_count": null,
      "outputs": [
        {
          "output_type": "execute_result",
          "data": {
            "text/plain": [
              "(60000,)"
            ]
          },
          "metadata": {},
          "execution_count": 36
        }
      ]
    },
    {
      "cell_type": "markdown",
      "source": [
        "# One-Hot Encoder\n"
      ],
      "metadata": {
        "id": "eZXbloA90vpY"
      }
    },
    {
      "cell_type": "markdown",
      "source": [
        "How?"
      ],
      "metadata": {
        "id": "CbvpYG-R2nPW"
      }
    },
    {
      "cell_type": "code",
      "source": [
        "def onehot(y, nclass=10):\n",
        "    y_ = np.zeros((y.shape[0], nclass))\n",
        "    for i, y in enumerate(y):\n",
        "        y_[i, y[i]] = 1\n",
        "    return y_\n",
        "# or use keras\n",
        "# Ytrain = onehot(Ytrain)\n",
        "# Ytest = onehot(Ytest)\n",
        "Ytrain = tf.keras.utils.to_categorical(Ytrain, num_classes=10)\n",
        "Ytest = tf.keras.utils.to_categorical(Ytest, num_classes=10)\n",
        "\n"
      ],
      "metadata": {
        "id": "LYdbeyhTz9Zl"
      },
      "execution_count": null,
      "outputs": []
    },
    {
      "cell_type": "markdown",
      "source": [
        "training"
      ],
      "metadata": {
        "id": "XLWPLB7J7mkU"
      }
    },
    {
      "cell_type": "code",
      "source": [
        "d_in = (Xtrain.shape[1], )\n",
        "model = tf.keras.Sequential([\n",
        "    Dense(200, input_shape=d_in, activation='relu'),\n",
        "    Dense(200, activation='relu'),\n",
        "    Dense(10, activation='softmax')\n",
        "])\n",
        "model.compile(loss=MeanSquaredError(), optimizer='adam')\n",
        "model.fit(Xtrain/255. , Ytrain, epochs=50, validation_data=(Xtest, Ytest))\n"
      ],
      "metadata": {
        "id": "maYqGhiJ7lng"
      },
      "execution_count": null,
      "outputs": []
    },
    {
      "cell_type": "markdown",
      "source": [
        "Predict"
      ],
      "metadata": {
        "id": "qmDUWpMT-nIE"
      }
    },
    {
      "cell_type": "code",
      "source": [
        "pred = model.predict(Xtest/255.)\n",
        "print(np.sum(pred.argmax(axis=1) == Ytest.argmax(axis=1)) / len(Ytest))"
      ],
      "metadata": {
        "colab": {
          "base_uri": "https://localhost:8080/"
        },
        "id": "MGXeIL6Y8iPD",
        "outputId": "3429d757-6568-4229-b930-8a6783525d35"
      },
      "execution_count": null,
      "outputs": [
        {
          "output_type": "stream",
          "name": "stdout",
          "text": [
            "313/313 [==============================] - 0s 1ms/step\n",
            "0.8898\n"
          ]
        }
      ]
    },
    {
      "cell_type": "code",
      "source": [
        "print(pred[0])"
      ],
      "metadata": {
        "colab": {
          "base_uri": "https://localhost:8080/"
        },
        "id": "zdrLWdt_-mY8",
        "outputId": "42a472d6-a43c-4fd1-bc9f-5b4f12546ff4"
      },
      "execution_count": null,
      "outputs": [
        {
          "output_type": "stream",
          "name": "stdout",
          "text": [
            "[0. 0. 0. 0. 0. 0. 0. 1. 0. 0.]\n"
          ]
        }
      ]
    },
    {
      "cell_type": "markdown",
      "source": [
        "# Convolutinoal Neural Network (CNN)\n",
        "\n",
        "### 2-D Discrete Cross-correlation\n",
        "- original purpose: Measure of similarity of two signal\n",
        "- Filtering\n",
        "\n",
        "## Cross-Entropy\n",
        "- Entropy = measure the uncertainty\n",
        "- Cross-Entropy (cross =between 2 distributions )\n",
        "- Categorical Cross-Entropy: Multiple classes version of Cross-Entropy\n",
        " - target must be encode with one-hot format\n",
        "- Sparse Categorical Cross-Entropy\n",
        " - No need to encode in one-hot format\n",
        " - use the index as class label\n",
        "   - begin with o to #class-1"
      ],
      "metadata": {
        "id": "pgZrZ5kmBGJi"
      }
    },
    {
      "cell_type": "markdown",
      "source": [
        "# Lenet5 with TF"
      ],
      "metadata": {
        "id": "b7LaqU4wIbSd"
      }
    },
    {
      "cell_type": "code",
      "source": [
        "model = tf.keras.Sequential([\n",
        "    # 2D\n",
        "    Conv2D(6, (5,5), input_shape=(32, 32, 1), activation='relu'),\n",
        "    MaxPool2D(),\n",
        "    Conv2D(16, (5,5), activation='relu'),\n",
        "    MaxPool2D(),\n",
        "\n",
        "    # MLP 1D\n",
        "    layers.Flatten(),\n",
        "    Dense(120, activation='relu'),\n",
        "    Dense(84, activation='relu'),\n",
        "    Dense(10, activation='softmax'),\n",
        "])\n",
        "model.compile(loss='sparse_categorical_crossentropy', optimizer='adam')\n",
        "# model.summary()"
      ],
      "metadata": {
        "id": "M0tlX77XAUNI"
      },
      "execution_count": null,
      "outputs": []
    },
    {
      "cell_type": "code",
      "source": [
        "tf.keras.utils.plot_model(model, show_shapes=True)"
      ],
      "metadata": {
        "id": "hmFX8sz9LekZ"
      },
      "execution_count": null,
      "outputs": []
    },
    {
      "cell_type": "markdown",
      "source": [
        "# LeNet5 with MNIST\n",
        "- Preprocessing\n",
        " - Rescale to [0,1]\n",
        " - Resize to 32*32\n",
        "- Training\n",
        "- Prediction"
      ],
      "metadata": {
        "id": "hB9ayL_ALopq"
      }
    },
    {
      "cell_type": "code",
      "source": [
        "(Xtrain, Ytrain), (Xtest, Ytest) = tf.keras.datasets.mnist.load_data()\n",
        "Xtrain = Xtrain[:, :, :, None] / 255.\n",
        "Xtest = Xtest[:, :, :, None] /255.\n",
        "Xtrain = tf.image.resize(Xtrain, (32, 32))\n",
        "Xtest = tf.image.resize(Xtest, (32, 32))\n",
        "Xtrain.shape"
      ],
      "metadata": {
        "colab": {
          "base_uri": "https://localhost:8080/"
        },
        "id": "yqD-K6g5L12g",
        "outputId": "9a576056-f908-4761-d646-36acc22e48f9"
      },
      "execution_count": null,
      "outputs": [
        {
          "output_type": "execute_result",
          "data": {
            "text/plain": [
              "TensorShape([60000, 32, 32, 1])"
            ]
          },
          "metadata": {},
          "execution_count": 53
        }
      ]
    },
    {
      "cell_type": "code",
      "source": [
        "history = model.fit(Xtrain, Ytrain, epochs=50)"
      ],
      "metadata": {
        "colab": {
          "base_uri": "https://localhost:8080/"
        },
        "id": "TFbxnKWuMfvt",
        "outputId": "0049ad96-5f25-4e09-d6ff-432aef006ce9"
      },
      "execution_count": null,
      "outputs": [
        {
          "output_type": "stream",
          "name": "stdout",
          "text": [
            "Epoch 1/50\n",
            "1/1 [==============================] - 0s 380ms/step - loss: 2.3739\n",
            "Epoch 2/50\n",
            "1/1 [==============================] - 0s 11ms/step - loss: 2.2402\n",
            "Epoch 3/50\n",
            "1/1 [==============================] - 0s 10ms/step - loss: 2.1232\n",
            "Epoch 4/50\n",
            "1/1 [==============================] - 0s 9ms/step - loss: 2.0038\n",
            "Epoch 5/50\n",
            "1/1 [==============================] - 0s 11ms/step - loss: 1.8659\n",
            "Epoch 6/50\n",
            "1/1 [==============================] - 0s 10ms/step - loss: 1.6997\n",
            "Epoch 7/50\n",
            "1/1 [==============================] - 0s 7ms/step - loss: 1.4998\n",
            "Epoch 8/50\n",
            "1/1 [==============================] - 0s 10ms/step - loss: 1.2668\n",
            "Epoch 9/50\n",
            "1/1 [==============================] - 0s 10ms/step - loss: 1.0078\n",
            "Epoch 10/50\n",
            "1/1 [==============================] - 0s 9ms/step - loss: 0.7393\n",
            "Epoch 11/50\n",
            "1/1 [==============================] - 0s 8ms/step - loss: 0.4896\n",
            "Epoch 12/50\n",
            "1/1 [==============================] - 0s 9ms/step - loss: 0.2896\n",
            "Epoch 13/50\n",
            "1/1 [==============================] - 0s 8ms/step - loss: 0.1552\n",
            "Epoch 14/50\n",
            "1/1 [==============================] - 0s 9ms/step - loss: 0.0782\n",
            "Epoch 15/50\n",
            "1/1 [==============================] - 0s 10ms/step - loss: 0.0388\n",
            "Epoch 16/50\n",
            "1/1 [==============================] - 0s 11ms/step - loss: 0.0196\n",
            "Epoch 17/50\n",
            "1/1 [==============================] - 0s 10ms/step - loss: 0.0101\n",
            "Epoch 18/50\n",
            "1/1 [==============================] - 0s 9ms/step - loss: 0.0053\n",
            "Epoch 19/50\n",
            "1/1 [==============================] - 0s 10ms/step - loss: 0.0028\n",
            "Epoch 20/50\n",
            "1/1 [==============================] - 0s 9ms/step - loss: 0.0015\n",
            "Epoch 21/50\n",
            "1/1 [==============================] - 0s 7ms/step - loss: 8.0966e-04\n",
            "Epoch 22/50\n",
            "1/1 [==============================] - 0s 7ms/step - loss: 4.4227e-04\n",
            "Epoch 23/50\n",
            "1/1 [==============================] - 0s 8ms/step - loss: 2.4592e-04\n",
            "Epoch 24/50\n",
            "1/1 [==============================] - 0s 8ms/step - loss: 1.3929e-04\n",
            "Epoch 25/50\n",
            "1/1 [==============================] - 0s 11ms/step - loss: 8.0609e-05\n",
            "Epoch 26/50\n",
            "1/1 [==============================] - 0s 14ms/step - loss: 4.7759e-05\n",
            "Epoch 27/50\n",
            "1/1 [==============================] - 0s 7ms/step - loss: 2.9020e-05\n",
            "Epoch 28/50\n",
            "1/1 [==============================] - 0s 10ms/step - loss: 1.8107e-05\n",
            "Epoch 29/50\n",
            "1/1 [==============================] - 0s 7ms/step - loss: 1.1604e-05\n",
            "Epoch 30/50\n",
            "1/1 [==============================] - 0s 10ms/step - loss: 7.6243e-06\n",
            "Epoch 31/50\n",
            "1/1 [==============================] - 0s 9ms/step - loss: 5.1299e-06\n",
            "Epoch 32/50\n",
            "1/1 [==============================] - 0s 9ms/step - loss: 3.5506e-06\n",
            "Epoch 33/50\n",
            "1/1 [==============================] - 0s 8ms/step - loss: 2.5033e-06\n",
            "Epoch 34/50\n",
            "1/1 [==============================] - 0s 9ms/step - loss: 1.8222e-06\n",
            "Epoch 35/50\n",
            "1/1 [==============================] - 0s 7ms/step - loss: 1.3539e-06\n",
            "Epoch 36/50\n",
            "1/1 [==============================] - 0s 8ms/step - loss: 1.0218e-06\n",
            "Epoch 37/50\n",
            "1/1 [==============================] - 0s 6ms/step - loss: 7.9188e-07\n",
            "Epoch 38/50\n",
            "1/1 [==============================] - 0s 9ms/step - loss: 6.2584e-07\n",
            "Epoch 39/50\n",
            "1/1 [==============================] - 0s 9ms/step - loss: 5.0238e-07\n",
            "Epoch 40/50\n",
            "1/1 [==============================] - 0s 10ms/step - loss: 4.0446e-07\n",
            "Epoch 41/50\n",
            "1/1 [==============================] - 0s 9ms/step - loss: 3.4060e-07\n",
            "Epoch 42/50\n",
            "1/1 [==============================] - 0s 9ms/step - loss: 2.8525e-07\n",
            "Epoch 43/50\n",
            "1/1 [==============================] - 0s 12ms/step - loss: 2.4693e-07\n",
            "Epoch 44/50\n",
            "1/1 [==============================] - 0s 9ms/step - loss: 2.1287e-07\n",
            "Epoch 45/50\n",
            "1/1 [==============================] - 0s 14ms/step - loss: 1.8307e-07\n",
            "Epoch 46/50\n",
            "1/1 [==============================] - 0s 10ms/step - loss: 1.6604e-07\n",
            "Epoch 47/50\n",
            "1/1 [==============================] - 0s 10ms/step - loss: 1.4475e-07\n",
            "Epoch 48/50\n",
            "1/1 [==============================] - 0s 8ms/step - loss: 1.3198e-07\n",
            "Epoch 49/50\n",
            "1/1 [==============================] - 0s 10ms/step - loss: 1.2347e-07\n",
            "Epoch 50/50\n",
            "1/1 [==============================] - 0s 8ms/step - loss: 1.0644e-07\n"
          ]
        }
      ]
    },
    {
      "cell_type": "code",
      "source": [
        "Ztest = model.predict(Xtest)\n",
        "print(np.sum(Ztest.argmax(axis=1) == Ytest) / len(Ztest))"
      ],
      "metadata": {
        "colab": {
          "base_uri": "https://localhost:8080/",
          "height": 433
        },
        "id": "hJGqeLY9M19C",
        "outputId": "7ab1d313-4c9c-442f-de46-f8d1e98b339b"
      },
      "execution_count": null,
      "outputs": [
        {
          "output_type": "error",
          "ename": "ValueError",
          "evalue": "ignored",
          "traceback": [
            "\u001b[0;31m---------------------------------------------------------------------------\u001b[0m",
            "\u001b[0;31mValueError\u001b[0m                                Traceback (most recent call last)",
            "\u001b[0;32m<ipython-input-92-eb4070600022>\u001b[0m in \u001b[0;36m<module>\u001b[0;34m\u001b[0m\n\u001b[0;32m----> 1\u001b[0;31m \u001b[0mZtest\u001b[0m \u001b[0;34m=\u001b[0m \u001b[0mmodel\u001b[0m\u001b[0;34m.\u001b[0m\u001b[0mpredict\u001b[0m\u001b[0;34m(\u001b[0m\u001b[0mXtest\u001b[0m\u001b[0;34m)\u001b[0m\u001b[0;34m\u001b[0m\u001b[0;34m\u001b[0m\u001b[0m\n\u001b[0m\u001b[1;32m      2\u001b[0m \u001b[0mprint\u001b[0m\u001b[0;34m(\u001b[0m\u001b[0mnp\u001b[0m\u001b[0;34m.\u001b[0m\u001b[0msum\u001b[0m\u001b[0;34m(\u001b[0m\u001b[0mZtest\u001b[0m\u001b[0;34m.\u001b[0m\u001b[0margmax\u001b[0m\u001b[0;34m(\u001b[0m\u001b[0maxis\u001b[0m\u001b[0;34m=\u001b[0m\u001b[0;36m1\u001b[0m\u001b[0;34m)\u001b[0m \u001b[0;34m==\u001b[0m \u001b[0mYtest\u001b[0m\u001b[0;34m)\u001b[0m \u001b[0;34m/\u001b[0m \u001b[0mlen\u001b[0m\u001b[0;34m(\u001b[0m\u001b[0mZtest\u001b[0m\u001b[0;34m)\u001b[0m\u001b[0;34m)\u001b[0m\u001b[0;34m\u001b[0m\u001b[0;34m\u001b[0m\u001b[0m\n",
            "\u001b[0;32m/usr/local/lib/python3.8/dist-packages/keras/utils/traceback_utils.py\u001b[0m in \u001b[0;36merror_handler\u001b[0;34m(*args, **kwargs)\u001b[0m\n\u001b[1;32m     65\u001b[0m     \u001b[0;32mexcept\u001b[0m \u001b[0mException\u001b[0m \u001b[0;32mas\u001b[0m \u001b[0me\u001b[0m\u001b[0;34m:\u001b[0m  \u001b[0;31m# pylint: disable=broad-except\u001b[0m\u001b[0;34m\u001b[0m\u001b[0;34m\u001b[0m\u001b[0m\n\u001b[1;32m     66\u001b[0m       \u001b[0mfiltered_tb\u001b[0m \u001b[0;34m=\u001b[0m \u001b[0m_process_traceback_frames\u001b[0m\u001b[0;34m(\u001b[0m\u001b[0me\u001b[0m\u001b[0;34m.\u001b[0m\u001b[0m__traceback__\u001b[0m\u001b[0;34m)\u001b[0m\u001b[0;34m\u001b[0m\u001b[0;34m\u001b[0m\u001b[0m\n\u001b[0;32m---> 67\u001b[0;31m       \u001b[0;32mraise\u001b[0m \u001b[0me\u001b[0m\u001b[0;34m.\u001b[0m\u001b[0mwith_traceback\u001b[0m\u001b[0;34m(\u001b[0m\u001b[0mfiltered_tb\u001b[0m\u001b[0;34m)\u001b[0m \u001b[0;32mfrom\u001b[0m \u001b[0;32mNone\u001b[0m\u001b[0;34m\u001b[0m\u001b[0;34m\u001b[0m\u001b[0m\n\u001b[0m\u001b[1;32m     68\u001b[0m     \u001b[0;32mfinally\u001b[0m\u001b[0;34m:\u001b[0m\u001b[0;34m\u001b[0m\u001b[0;34m\u001b[0m\u001b[0m\n\u001b[1;32m     69\u001b[0m       \u001b[0;32mdel\u001b[0m \u001b[0mfiltered_tb\u001b[0m\u001b[0;34m\u001b[0m\u001b[0;34m\u001b[0m\u001b[0m\n",
            "\u001b[0;32m/usr/local/lib/python3.8/dist-packages/keras/engine/training.py\u001b[0m in \u001b[0;36mpredict\u001b[0;34m(self, x, batch_size, verbose, steps, callbacks, max_queue_size, workers, use_multiprocessing)\u001b[0m\n\u001b[1;32m   2046\u001b[0m             \u001b[0mcallbacks\u001b[0m\u001b[0;34m.\u001b[0m\u001b[0mon_predict_batch_end\u001b[0m\u001b[0;34m(\u001b[0m\u001b[0mend_step\u001b[0m\u001b[0;34m,\u001b[0m \u001b[0;34m{\u001b[0m\u001b[0;34m'outputs'\u001b[0m\u001b[0;34m:\u001b[0m \u001b[0mbatch_outputs\u001b[0m\u001b[0;34m}\u001b[0m\u001b[0;34m)\u001b[0m\u001b[0;34m\u001b[0m\u001b[0;34m\u001b[0m\u001b[0m\n\u001b[1;32m   2047\u001b[0m       \u001b[0;32mif\u001b[0m \u001b[0mbatch_outputs\u001b[0m \u001b[0;32mis\u001b[0m \u001b[0;32mNone\u001b[0m\u001b[0;34m:\u001b[0m\u001b[0;34m\u001b[0m\u001b[0;34m\u001b[0m\u001b[0m\n\u001b[0;32m-> 2048\u001b[0;31m         raise ValueError('Unexpected result of `predict_function` '\n\u001b[0m\u001b[1;32m   2049\u001b[0m                          \u001b[0;34m'(Empty batch_outputs). Please use '\u001b[0m\u001b[0;34m\u001b[0m\u001b[0;34m\u001b[0m\u001b[0m\n\u001b[1;32m   2050\u001b[0m                          \u001b[0;34m'`Model.compile(..., run_eagerly=True)`, or '\u001b[0m\u001b[0;34m\u001b[0m\u001b[0;34m\u001b[0m\u001b[0m\n",
            "\u001b[0;31mValueError\u001b[0m: Unexpected result of `predict_function` (Empty batch_outputs). Please use `Model.compile(..., run_eagerly=True)`, or `tf.config.run_functions_eagerly(True)` for more information of where went wrong, or file a issue/bug to `tf.keras`."
          ]
        }
      ]
    },
    {
      "cell_type": "markdown",
      "source": [
        "# Transfer Learning"
      ],
      "metadata": {
        "id": "4rezFS1fPCBt"
      }
    },
    {
      "cell_type": "code",
      "source": [
        "import pickle\n",
        "data = pickle.load(open('thainumber_28.pkl' ,'rb'))\n",
        "X = data['X']\n",
        "Y = data['Y']\n"
      ],
      "metadata": {
        "colab": {
          "base_uri": "https://localhost:8080/"
        },
        "id": "j4IghDy0PEs0",
        "outputId": "c3367d68-11a5-4860-ed8c-492326effdd8"
      },
      "execution_count": null,
      "outputs": [
        {
          "output_type": "execute_result",
          "data": {
            "text/plain": [
              "(1665, 28, 28, 1)"
            ]
          },
          "metadata": {},
          "execution_count": 73
        }
      ]
    },
    {
      "cell_type": "code",
      "source": [
        "n = 10\n",
        "for j, i in enumerate(np.random.choice(len(X), n)):\n",
        "    plt.subplot(1, n, j+1)\n",
        "    plt.imshow(X[i,:,:,0], cmap='gray')\n",
        "    plt.axis('off')\n",
        "plt.savefig('thai.png')\n",
        "plt.show()"
      ],
      "metadata": {
        "colab": {
          "base_uri": "https://localhost:8080/",
          "height": 59
        },
        "id": "RnT15B2kPwdk",
        "outputId": "d3dcec39-6a82-44a2-b5d4-1bc2baeb2fba"
      },
      "execution_count": null,
      "outputs": [
        {
          "output_type": "display_data",
          "data": {
            "text/plain": [
              "<Figure size 432x288 with 10 Axes>"
            ],
            "image/png": "[encoded data removed]"
          },
          "metadata": {
            "needs_background": "light"
          }
        }
      ]
    },
    {
      "cell_type": "code",
      "source": [
        "from skimage.transform import resize\n",
        "\n",
        "_X = []\n",
        "for x in X:\n",
        "    _X.append(resize(x, (32, 32)))\n",
        "X = np.array(_X)\n",
        "del _X"
      ],
      "metadata": {
        "id": "sSbhPsbTRMy9"
      },
      "execution_count": null,
      "outputs": []
    },
    {
      "cell_type": "code",
      "source": [
        "np.random.permutation(10)\n",
        "len(X)"
      ],
      "metadata": {
        "colab": {
          "base_uri": "https://localhost:8080/"
        },
        "id": "ERO_1E1MSPR3",
        "outputId": "d73fbf18-8569-4275-c00c-36fbfe7fa43d"
      },
      "execution_count": null,
      "outputs": [
        {
          "output_type": "execute_result",
          "data": {
            "text/plain": [
              "1665"
            ]
          },
          "metadata": {},
          "execution_count": 78
        }
      ]
    },
    {
      "cell_type": "code",
      "source": [
        "idx = np.random.permutation(np.arange(len(x)))\n",
        "split = 1665 * 8 // 10\n",
        "train_idx = idx[:split]\n",
        "test_idx = idx[split:]\n",
        "Xtrain, Ytrain = X[train_idx] / 255. , Y[train_idx].astype(np.int)\n",
        "Xtest, Ytest = X[test_idx] / 255. , Y[test_idx].astype(np.int)\n",
        "\n"
      ],
      "metadata": {
        "id": "Mpxcb7MTSLrs"
      },
      "execution_count": null,
      "outputs": []
    },
    {
      "cell_type": "code",
      "source": [
        "model.fit(X, Y, epochs=25)"
      ],
      "metadata": {
        "id": "aCmXR58bTJ1G"
      },
      "execution_count": null,
      "outputs": []
    },
    {
      "cell_type": "code",
      "source": [
        "Ztest = model.predict(X)\n",
        "print(np.sum(Ztest.argmax(axis=1) == Ytest) / len(Ztest))"
      ],
      "metadata": {
        "colab": {
          "base_uri": "https://localhost:8080/"
        },
        "id": "B0icyx17TIrn",
        "outputId": "c83a523a-139f-44b1-cfcb-1e8cff7d9c13"
      },
      "execution_count": null,
      "outputs": [
        {
          "output_type": "stream",
          "name": "stdout",
          "text": [
            "53/53 [==============================] - 0s 3ms/step\n",
            "0.0\n"
          ]
        },
        {
          "output_type": "stream",
          "name": "stderr",
          "text": [
            "<ipython-input-86-bdcc066cd09a>:2: DeprecationWarning: elementwise comparison failed; this will raise an error in the future.\n",
            "  print(np.sum(Ztest.argmax(axis=1) == Ytest) / len(Ztest))\n"
          ]
        }
      ]
    },
    {
      "cell_type": "markdown",
      "source": [
        "# VGG\n",
        "- Deeper network: VGG16\n",
        " - Better performance\n",
        " - More memory required\n",
        " - Longer training time"
      ],
      "metadata": {
        "id": "4076hxPVU-AM"
      }
    },
    {
      "cell_type": "markdown",
      "source": [
        "## VGG 16"
      ],
      "metadata": {
        "id": "6iUnACyPZIA3"
      }
    },
    {
      "cell_type": "code",
      "source": [
        "model = tf.keras.Sequential([\n",
        "    Conv2D(64, (3,3), padding='same', activation='relu', input_shape=(224,224,3)),\n",
        "    Conv2D(64, (3,3), padding='same', activation='relu'),\n",
        "    MaxPool2D(),\n",
        "    Conv2D(128, (3,3), padding='same', activation='relu'),\n",
        "    Conv2D(128, (3,3), padding='same', activation='relu'),\n",
        "    MaxPool2D(),\n",
        "    Conv2D(256, (3,3), padding='same', activation='relu'),\n",
        "    Conv2D(256, (3,3), padding='same', activation='relu'),\n",
        "    Conv2D(256, (3,3), padding='same', activation='relu'),\n",
        "    MaxPool2D(),\n",
        "    Conv2D(512, (3,3), padding='same', activation='relu'),\n",
        "    Conv2D(512, (3,3), padding='same', activation='relu'),\n",
        "    Conv2D(512, (3,3), padding='same', activation='relu'),\n",
        "    MaxPool2D(),\n",
        "    Conv2D(512, (3,3), padding='same', activation='relu'),\n",
        "    Conv2D(512, (3,3), padding='same', activation='relu'),\n",
        "    Conv2D(512, (3,3), padding='same', activation='relu'),\n",
        "    MaxPool2D(),\n",
        "    layers.Flatten(),\n",
        "    Dense(4096, activation='relu'),\n",
        "    Dense(4096, activation='relu'),\n",
        "    Dense(10, activation='softmax'),\n",
        "])\n",
        "model.compile(optimizer='adam', loss=tf.keras.losses.sparse_categorical_crossentropy)"
      ],
      "metadata": {
        "id": "xqVaEGT8ZFAv"
      },
      "execution_count": null,
      "outputs": []
    },
    {
      "cell_type": "markdown",
      "source": [
        "## MNIST with VGG16\n",
        "How ?\n",
        "- Make input meet the requiredment\n",
        " - Gray to GRB by duplication all color channels with the same values \n",
        " - Resize image\n",
        "- Create new input layer before the first layer of network\n",
        " - Convolutional Layer\n",
        " - Upsampling Layer\n",
        "- The number of node in the last Dense layer should be the number of classes(MNIST = 10)"
      ],
      "metadata": {
        "id": "R7XIJFf-W0pv"
      }
    },
    {
      "cell_type": "code",
      "source": [
        "# this will out of memory error! --> use minibatch instead\n",
        "(Xtrain, Ytrain), (Xtest, Ytest) = tf.keras.datasets.mnist.load_data()\n",
        "Xtrain = Xtrain[:, :, :, None] / 255.\n",
        "Xtest = Xtest[:, :, :, None] / 255.\n",
        "# Xtrain = tf.image.grayscale_to_rgb(Xtrain)\n",
        "# Xtest = tf.image.grayscale_to_rgb(Xtest)\n",
        "# Xtrain = tf.image.resize(Xtest, (224, 224))\n",
        "# Xtest = tf.image.grayscale_to_rgb(Xtest)"
      ],
      "metadata": {
        "id": "5JBt9fRwVIkM"
      },
      "execution_count": null,
      "outputs": []
    },
    {
      "cell_type": "code",
      "source": [
        "datagen = tf.keras.preprocessing.image.ImageDataGenerator()\n",
        "batch = 128\n",
        "datagen.fit(Xtrain)\n",
        "num_batch = len(Xtrain) / batch\n",
        "Progbar = tf.keras.utils.Progbar(num_batch)\n",
        "for epoch in range(50):\n",
        "    batches = 0\n",
        "    for x, y in datagen.flow(Xtrain, Ytrain, batch_size=batch):\n",
        "        x = tf.image.resize(x, (224, 244))\n",
        "        x = tf.image.grayscale_to_rgb(x)\n",
        "        history = model.fit(x, y, verbose=0)\n",
        "        batches += 1\n",
        "        Progbar.update(batches, values=[('loss', history.history['loss'][0])])\n",
        "        if batches >= num_batch:\n",
        "            print(epoch)\n",
        "            break"
      ],
      "metadata": {
        "id": "VZcR0hEhYNjY"
      },
      "execution_count": null,
      "outputs": []
    }
  ]
}