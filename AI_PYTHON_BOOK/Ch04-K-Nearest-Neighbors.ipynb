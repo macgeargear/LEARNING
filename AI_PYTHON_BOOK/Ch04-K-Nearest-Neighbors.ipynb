{
 "cells": [
  {
   "attachments": {},
   "cell_type": "markdown",
   "metadata": {},
   "source": [
    "Outline\n",
    "1. understand K-NN\n",
    "2. understand sample space and measure distance in such space\n",
    "3. optimization\n",
    "\n",
    "\n",
    "Similarity --> Euclidean distance"
   ]
  },
  {
   "cell_type": "code",
   "execution_count": 1,
   "metadata": {},
   "outputs": [],
   "source": [
    "# k_nearest Neighbot\n",
    "import numpy as np\n",
    "def kNN(Xtrain, Ytrain, Xtest, k=1):\n",
    "    Ytest = []\n",
    "    for x in Xtest:\n",
    "        d = np.sqrt(np.sum((Xtrain-Xtest)**2, axis=1)) # Euclidean distance\n",
    "        idx = np.argsort(d) # return indice of sorted arr elm\n",
    "        (values, counts) = np.unique(Ytrain[idx[:k]], return_counts=True)\n",
    "        ind = np.argmax(counts) #ind of max elm\n",
    "        Ytest.append(values[ind])\n",
    "    return Ytest"
   ]
  },
  {
   "cell_type": "code",
   "execution_count": null,
   "metadata": {},
   "outputs": [],
   "source": [
    "import pandas as pd \n",
    "import os\n",
    "import numpy as np\n",
    "\n",
    "def load(split_train_test=None):\n",
    "    url = 'http://archive.ics.uci.edu/ml/machine-learning-databases/iris/iris.data'\n",
    "    iris = pd.read_csv(url, header=None)\n",
    "    iris.to_csv('./dataset/iris.csv', index=False)\n",
    "    print(iris.iloc[:, :4])\n",
    "    X = iris.iloc[:, :4].values\n",
    "    Y = iris.iloc[:, -1].values\n",
    "    if split_train_test:\n",
    "        classes = np.unique(Y)\n",
    "        itrain = np.empyty((0,), dtype=np.int)\n",
    "        itest = np.empty((0, ), dtype=np.int)\n",
    "        for i in classes:\n",
    "            idx = np.where(Y==i)[0]\n",
    "            split = int(len(idx) * split_train_test)\n",
    "            itrain = np.concatenate((itrain, idx[:split]))\n",
    "            itest = np.concatenate((itest, idx[split:]))\n",
    "        return X[itrain], Y[itrain], X[itest], Y[itest]\n",
    "    return X, Y\n",
    "\n",
    "if __name__ == '__main__':\n",
    "    irisInputs, irisTargets = load()\n",
    "    print(irisInputs)\n",
    "    print(irisTargets)\n"
   ]
  },
  {
   "cell_type": "code",
   "execution_count": null,
   "metadata": {},
   "outputs": [],
   "source": [
    "def plotdata(Xtrain)"
   ]
  }
 ],
 "metadata": {
  "kernelspec": {
   "display_name": "Python 3",
   "language": "python",
   "name": "python3"
  },
  "language_info": {
   "codemirror_mode": {
    "name": "ipython",
    "version": 3
   },
   "file_extension": ".py",
   "mimetype": "text/x-python",
   "name": "python",
   "nbconvert_exporter": "python",
   "pygments_lexer": "ipython3",
   "version": "3.9.13"
  },
  "orig_nbformat": 4,
  "vscode": {
   "interpreter": {
    "hash": "b0fa6594d8f4cbf19f97940f81e996739fb7646882a419484c72d19e05852a7e"
   }
  }
 },
 "nbformat": 4,
 "nbformat_minor": 2
}
