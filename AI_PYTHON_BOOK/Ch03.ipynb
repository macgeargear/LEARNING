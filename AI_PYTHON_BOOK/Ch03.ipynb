{
 "cells": [
  {
   "cell_type": "code",
   "execution_count": 7,
   "metadata": {},
   "outputs": [
    {
     "name": "stdout",
     "output_type": "stream",
     "text": [
      "['Sunny', 'Warm', '?', 'Strong', '?', '?']\n"
     ]
    }
   ],
   "source": [
    "def expand(X,S):\n",
    "    for i in range(len(S)):\n",
    "        if X[i] != S[i] and S[i] == '':\n",
    "            S[i] = X[i]\n",
    "        elif X[i] != S[i] and S[i] != '':\n",
    "            S[i] = '?'\n",
    "    return S\n",
    "\n",
    "def FindS(X, T):\n",
    "    S = [''] * len(X[0])\n",
    "    for i in range(len(X)):\n",
    "        if T[i] == 'Yes':\n",
    "            S = expand(X[i],S)\n",
    "    return S\n",
    "\n",
    "if __name__ == '__main__':\n",
    "    X = [\n",
    "        # Sky     Temp     Humid      Wind      Water   Forecast ---> Play\n",
    "        ['Sunny', 'Warm', 'Normal', 'Strong', 'Warm', 'Same'],\n",
    "        ['Sunny', 'Warm', 'High', 'Strong', 'Warm', 'Same'],\n",
    "        ['Rainy', 'Cold', 'High', 'Strong', 'Warm', 'Change'],\n",
    "        ['Sunny', 'Warm', 'High', 'Strong', 'Cool', 'Change'],\n",
    "    ]\n",
    "    T = ['Yes', 'Yes', 'No', 'Yes']\n",
    "    S = FindS(X, T)\n",
    "    print(S)\n"
   ]
  },
  {
   "attachments": {},
   "cell_type": "markdown",
   "metadata": {},
   "source": [
    "#FindS --> None practical\n",
    "#List-Then-Eliminate --> None practical\n",
    "#Candidate Elimination --> Some hypo can't categorize\n",
    "\n",
    "For some categorical problem k-Nearest Neighbors is simple approach but highly effective\n"
   ]
  },
  {
   "cell_type": "code",
   "execution_count": null,
   "metadata": {},
   "outputs": [],
   "source": []
  },
  {
   "attachments": {},
   "cell_type": "markdown",
   "metadata": {},
   "source": []
  }
 ],
 "metadata": {
  "kernelspec": {
   "display_name": "Python 3",
   "language": "python",
   "name": "python3"
  },
  "language_info": {
   "codemirror_mode": {
    "name": "ipython",
    "version": 3
   },
   "file_extension": ".py",
   "mimetype": "text/x-python",
   "name": "python",
   "nbconvert_exporter": "python",
   "pygments_lexer": "ipython3",
   "version": "3.9.13"
  },
  "orig_nbformat": 4,
  "vscode": {
   "interpreter": {
    "hash": "b0fa6594d8f4cbf19f97940f81e996739fb7646882a419484c72d19e05852a7e"
   }
  }
 },
 "nbformat": 4,
 "nbformat_minor": 2
}
